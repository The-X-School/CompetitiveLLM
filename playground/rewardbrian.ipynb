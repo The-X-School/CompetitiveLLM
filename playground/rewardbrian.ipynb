{
 "cells": [
  {
   "cell_type": "code",
   "execution_count": 1,
   "metadata": {},
   "outputs": [
    {
     "name": "stdout",
     "output_type": "stream",
     "text": [
      "Requirement already satisfied: trl in /opt/homebrew/anaconda3/envs/competitiveLLM/lib/python3.13/site-packages (0.18.1)\n",
      "Requirement already satisfied: transformers in /opt/homebrew/anaconda3/envs/competitiveLLM/lib/python3.13/site-packages (4.52.4)\n",
      "Requirement already satisfied: datasets in /opt/homebrew/anaconda3/envs/competitiveLLM/lib/python3.13/site-packages (3.6.0)\n",
      "Requirement already satisfied: accelerate>=0.34.0 in /opt/homebrew/anaconda3/envs/competitiveLLM/lib/python3.13/site-packages (from trl) (1.7.0)\n",
      "Requirement already satisfied: filelock in /opt/homebrew/anaconda3/envs/competitiveLLM/lib/python3.13/site-packages (from transformers) (3.18.0)\n",
      "Requirement already satisfied: huggingface-hub<1.0,>=0.30.0 in /opt/homebrew/anaconda3/envs/competitiveLLM/lib/python3.13/site-packages (from transformers) (0.32.5)\n",
      "Requirement already satisfied: numpy>=1.17 in /opt/homebrew/anaconda3/envs/competitiveLLM/lib/python3.13/site-packages (from transformers) (2.3.0)\n",
      "Requirement already satisfied: packaging>=20.0 in /opt/homebrew/anaconda3/envs/competitiveLLM/lib/python3.13/site-packages (from transformers) (25.0)\n",
      "Requirement already satisfied: pyyaml>=5.1 in /opt/homebrew/anaconda3/envs/competitiveLLM/lib/python3.13/site-packages (from transformers) (6.0.2)\n",
      "Requirement already satisfied: regex!=2019.12.17 in /opt/homebrew/anaconda3/envs/competitiveLLM/lib/python3.13/site-packages (from transformers) (2024.11.6)\n",
      "Requirement already satisfied: requests in /opt/homebrew/anaconda3/envs/competitiveLLM/lib/python3.13/site-packages (from transformers) (2.32.3)\n",
      "Requirement already satisfied: tokenizers<0.22,>=0.21 in /opt/homebrew/anaconda3/envs/competitiveLLM/lib/python3.13/site-packages (from transformers) (0.21.1)\n",
      "Requirement already satisfied: safetensors>=0.4.3 in /opt/homebrew/anaconda3/envs/competitiveLLM/lib/python3.13/site-packages (from transformers) (0.5.3)\n",
      "Requirement already satisfied: tqdm>=4.27 in /opt/homebrew/anaconda3/envs/competitiveLLM/lib/python3.13/site-packages (from transformers) (4.67.1)\n",
      "Requirement already satisfied: fsspec>=2023.5.0 in /opt/homebrew/anaconda3/envs/competitiveLLM/lib/python3.13/site-packages (from huggingface-hub<1.0,>=0.30.0->transformers) (2025.3.0)\n",
      "Requirement already satisfied: typing-extensions>=3.7.4.3 in /opt/homebrew/anaconda3/envs/competitiveLLM/lib/python3.13/site-packages (from huggingface-hub<1.0,>=0.30.0->transformers) (4.14.0)\n",
      "Requirement already satisfied: hf-xet<2.0.0,>=1.1.2 in /opt/homebrew/anaconda3/envs/competitiveLLM/lib/python3.13/site-packages (from huggingface-hub<1.0,>=0.30.0->transformers) (1.1.3)\n",
      "Requirement already satisfied: pyarrow>=15.0.0 in /opt/homebrew/anaconda3/envs/competitiveLLM/lib/python3.13/site-packages (from datasets) (20.0.0)\n",
      "Requirement already satisfied: dill<0.3.9,>=0.3.0 in /opt/homebrew/anaconda3/envs/competitiveLLM/lib/python3.13/site-packages (from datasets) (0.3.8)\n",
      "Requirement already satisfied: pandas in /opt/homebrew/anaconda3/envs/competitiveLLM/lib/python3.13/site-packages (from datasets) (2.3.0)\n",
      "Requirement already satisfied: xxhash in /opt/homebrew/anaconda3/envs/competitiveLLM/lib/python3.13/site-packages (from datasets) (3.5.0)\n",
      "Requirement already satisfied: multiprocess<0.70.17 in /opt/homebrew/anaconda3/envs/competitiveLLM/lib/python3.13/site-packages (from datasets) (0.70.16)\n",
      "Requirement already satisfied: aiohttp!=4.0.0a0,!=4.0.0a1 in /opt/homebrew/anaconda3/envs/competitiveLLM/lib/python3.13/site-packages (from fsspec[http]<=2025.3.0,>=2023.1.0->datasets) (3.12.12)\n",
      "Requirement already satisfied: psutil in /opt/homebrew/anaconda3/envs/competitiveLLM/lib/python3.13/site-packages (from accelerate>=0.34.0->trl) (7.0.0)\n",
      "Requirement already satisfied: torch>=2.0.0 in /opt/homebrew/anaconda3/envs/competitiveLLM/lib/python3.13/site-packages (from accelerate>=0.34.0->trl) (2.7.1)\n",
      "Requirement already satisfied: aiohappyeyeballs>=2.5.0 in /opt/homebrew/anaconda3/envs/competitiveLLM/lib/python3.13/site-packages (from aiohttp!=4.0.0a0,!=4.0.0a1->fsspec[http]<=2025.3.0,>=2023.1.0->datasets) (2.6.1)\n",
      "Requirement already satisfied: aiosignal>=1.1.2 in /opt/homebrew/anaconda3/envs/competitiveLLM/lib/python3.13/site-packages (from aiohttp!=4.0.0a0,!=4.0.0a1->fsspec[http]<=2025.3.0,>=2023.1.0->datasets) (1.3.2)\n",
      "Requirement already satisfied: attrs>=17.3.0 in /opt/homebrew/anaconda3/envs/competitiveLLM/lib/python3.13/site-packages (from aiohttp!=4.0.0a0,!=4.0.0a1->fsspec[http]<=2025.3.0,>=2023.1.0->datasets) (25.3.0)\n",
      "Requirement already satisfied: frozenlist>=1.1.1 in /opt/homebrew/anaconda3/envs/competitiveLLM/lib/python3.13/site-packages (from aiohttp!=4.0.0a0,!=4.0.0a1->fsspec[http]<=2025.3.0,>=2023.1.0->datasets) (1.7.0)\n",
      "Requirement already satisfied: multidict<7.0,>=4.5 in /opt/homebrew/anaconda3/envs/competitiveLLM/lib/python3.13/site-packages (from aiohttp!=4.0.0a0,!=4.0.0a1->fsspec[http]<=2025.3.0,>=2023.1.0->datasets) (6.4.4)\n",
      "Requirement already satisfied: propcache>=0.2.0 in /opt/homebrew/anaconda3/envs/competitiveLLM/lib/python3.13/site-packages (from aiohttp!=4.0.0a0,!=4.0.0a1->fsspec[http]<=2025.3.0,>=2023.1.0->datasets) (0.3.2)\n",
      "Requirement already satisfied: yarl<2.0,>=1.17.0 in /opt/homebrew/anaconda3/envs/competitiveLLM/lib/python3.13/site-packages (from aiohttp!=4.0.0a0,!=4.0.0a1->fsspec[http]<=2025.3.0,>=2023.1.0->datasets) (1.20.1)\n",
      "Requirement already satisfied: idna>=2.0 in /opt/homebrew/anaconda3/envs/competitiveLLM/lib/python3.13/site-packages (from yarl<2.0,>=1.17.0->aiohttp!=4.0.0a0,!=4.0.0a1->fsspec[http]<=2025.3.0,>=2023.1.0->datasets) (3.7)\n",
      "Requirement already satisfied: charset-normalizer<4,>=2 in /opt/homebrew/anaconda3/envs/competitiveLLM/lib/python3.13/site-packages (from requests->transformers) (3.3.2)\n",
      "Requirement already satisfied: urllib3<3,>=1.21.1 in /opt/homebrew/anaconda3/envs/competitiveLLM/lib/python3.13/site-packages (from requests->transformers) (2.3.0)\n",
      "Requirement already satisfied: certifi>=2017.4.17 in /opt/homebrew/anaconda3/envs/competitiveLLM/lib/python3.13/site-packages (from requests->transformers) (2025.4.26)\n",
      "Requirement already satisfied: setuptools in /opt/homebrew/anaconda3/envs/competitiveLLM/lib/python3.13/site-packages (from torch>=2.0.0->accelerate>=0.34.0->trl) (78.1.1)\n",
      "Requirement already satisfied: sympy>=1.13.3 in /opt/homebrew/anaconda3/envs/competitiveLLM/lib/python3.13/site-packages (from torch>=2.0.0->accelerate>=0.34.0->trl) (1.14.0)\n",
      "Requirement already satisfied: networkx in /opt/homebrew/anaconda3/envs/competitiveLLM/lib/python3.13/site-packages (from torch>=2.0.0->accelerate>=0.34.0->trl) (3.5)\n",
      "Requirement already satisfied: jinja2 in /opt/homebrew/anaconda3/envs/competitiveLLM/lib/python3.13/site-packages (from torch>=2.0.0->accelerate>=0.34.0->trl) (3.1.6)\n",
      "Requirement already satisfied: mpmath<1.4,>=1.1.0 in /opt/homebrew/anaconda3/envs/competitiveLLM/lib/python3.13/site-packages (from sympy>=1.13.3->torch>=2.0.0->accelerate>=0.34.0->trl) (1.3.0)\n",
      "Requirement already satisfied: MarkupSafe>=2.0 in /opt/homebrew/anaconda3/envs/competitiveLLM/lib/python3.13/site-packages (from jinja2->torch>=2.0.0->accelerate>=0.34.0->trl) (3.0.2)\n",
      "Requirement already satisfied: python-dateutil>=2.8.2 in /opt/homebrew/anaconda3/envs/competitiveLLM/lib/python3.13/site-packages (from pandas->datasets) (2.9.0.post0)\n",
      "Requirement already satisfied: pytz>=2020.1 in /opt/homebrew/anaconda3/envs/competitiveLLM/lib/python3.13/site-packages (from pandas->datasets) (2025.2)\n",
      "Requirement already satisfied: tzdata>=2022.7 in /opt/homebrew/anaconda3/envs/competitiveLLM/lib/python3.13/site-packages (from pandas->datasets) (2025.2)\n",
      "Requirement already satisfied: six>=1.5 in /opt/homebrew/anaconda3/envs/competitiveLLM/lib/python3.13/site-packages (from python-dateutil>=2.8.2->pandas->datasets) (1.17.0)\n",
      "Note: you may need to restart the kernel to use updated packages.\n"
     ]
    }
   ],
   "source": [
    "%pip install trl transformers datasets"
   ]
  },
  {
   "cell_type": "code",
   "execution_count": 2,
   "metadata": {},
   "outputs": [
    {
     "name": "stderr",
     "output_type": "stream",
     "text": [
      "/opt/homebrew/anaconda3/envs/competitiveLLM/lib/python3.13/site-packages/tqdm/auto.py:21: TqdmWarning: IProgress not found. Please update jupyter and ipywidgets. See https://ipywidgets.readthedocs.io/en/stable/user_install.html\n",
      "  from .autonotebook import tqdm as notebook_tqdm\n"
     ]
    },
    {
     "ename": "KeyError",
     "evalue": "'input'",
     "output_type": "error",
     "traceback": [
      "\u001b[31m---------------------------------------------------------------------------\u001b[39m",
      "\u001b[31mKeyError\u001b[39m                                  Traceback (most recent call last)",
      "\u001b[36mCell\u001b[39m\u001b[36m \u001b[39m\u001b[32mIn[2]\u001b[39m\u001b[32m, line 14\u001b[39m\n\u001b[32m     11\u001b[39m ex1 = raw_dataset[i]\n\u001b[32m     12\u001b[39m ex2 = raw_dataset[i+\u001b[32m1\u001b[39m]\n\u001b[32m---> \u001b[39m\u001b[32m14\u001b[39m prompt1 = \u001b[33mf\u001b[39m\u001b[33m\"\u001b[39m\u001b[38;5;132;01m{\u001b[39;00mex1[\u001b[33m'\u001b[39m\u001b[33minstruction\u001b[39m\u001b[33m'\u001b[39m]\u001b[38;5;132;01m}\u001b[39;00m\u001b[38;5;130;01m\\n\u001b[39;00m\u001b[38;5;132;01m{\u001b[39;00mex1[\u001b[33m'\u001b[39m\u001b[33minput\u001b[39m\u001b[33m'\u001b[39m]\u001b[38;5;132;01m}\u001b[39;00m\u001b[33m\"\u001b[39m \u001b[38;5;28;01mif\u001b[39;00m \u001b[43mex1\u001b[49m\u001b[43m[\u001b[49m\u001b[33;43m\"\u001b[39;49m\u001b[33;43minput\u001b[39;49m\u001b[33;43m\"\u001b[39;49m\u001b[43m]\u001b[49m \u001b[38;5;28;01melse\u001b[39;00m ex1[\u001b[33m\"\u001b[39m\u001b[33minstruction\u001b[39m\u001b[33m\"\u001b[39m]\n\u001b[32m     15\u001b[39m prompt2 = \u001b[33mf\u001b[39m\u001b[33m\"\u001b[39m\u001b[38;5;132;01m{\u001b[39;00mex2[\u001b[33m'\u001b[39m\u001b[33minstruction\u001b[39m\u001b[33m'\u001b[39m]\u001b[38;5;132;01m}\u001b[39;00m\u001b[38;5;130;01m\\n\u001b[39;00m\u001b[38;5;132;01m{\u001b[39;00mex2[\u001b[33m'\u001b[39m\u001b[33minput\u001b[39m\u001b[33m'\u001b[39m]\u001b[38;5;132;01m}\u001b[39;00m\u001b[33m\"\u001b[39m \u001b[38;5;28;01mif\u001b[39;00m ex2[\u001b[33m\"\u001b[39m\u001b[33minput\u001b[39m\u001b[33m\"\u001b[39m] \u001b[38;5;28;01melse\u001b[39;00m ex2[\u001b[33m\"\u001b[39m\u001b[33minstruction\u001b[39m\u001b[33m\"\u001b[39m]\n\u001b[32m     17\u001b[39m \u001b[38;5;66;03m# Ensure same instruction to simulate preference\u001b[39;00m\n",
      "\u001b[31mKeyError\u001b[39m: 'input'"
     ]
    }
   ],
   "source": [
    "from datasets import load_dataset, Dataset\n",
    "import random\n",
    "\n",
    "# Load the TACO dataset\n",
    "raw_dataset = load_dataset(\"BAAI/TACO\", split=\"train\")\n",
    "\n",
    "# Build a pseudo reward dataset by pairing responses\n",
    "reward_data = []\n",
    "\n",
    "for i in range(0, len(raw_dataset) - 1, 2):\n",
    "    ex1 = raw_dataset[i]\n",
    "    ex2 = raw_dataset[i+1]\n",
    "\n",
    "    prompt1 = f\"{ex1['instruction']}\\n{ex1['input']}\" if ex1[\"input\"] else ex1[\"instruction\"]\n",
    "    prompt2 = f\"{ex2['instruction']}\\n{ex2['input']}\" if ex2[\"input\"] else ex2[\"instruction\"]\n",
    "\n",
    "    # Ensure same instruction to simulate preference\n",
    "    if prompt1.strip() != prompt2.strip():\n",
    "        continue\n",
    "\n",
    "    # Randomly assign which output is preferred\n",
    "    if random.random() < 0.5:\n",
    "        chosen, rejected = ex1[\"output\"], ex2[\"output\"]\n",
    "    else:\n",
    "        chosen, rejected = ex2[\"output\"], ex1[\"output\"]\n",
    "\n",
    "    reward_data.append({\n",
    "        \"prompt\": prompt1.strip(),\n",
    "        \"chosen\": chosen.strip(),\n",
    "        \"rejected\": rejected.strip()\n",
    "    })\n",
    "\n",
    "# Convert to Hugging Face Dataset\n",
    "reward_dataset = Dataset.from_list(reward_data)\n"
   ]
  }
 ],
 "metadata": {
  "kernelspec": {
   "display_name": "competitiveLLM",
   "language": "python",
   "name": "python3"
  },
  "language_info": {
   "codemirror_mode": {
    "name": "ipython",
    "version": 3
   },
   "file_extension": ".py",
   "mimetype": "text/x-python",
   "name": "python",
   "nbconvert_exporter": "python",
   "pygments_lexer": "ipython3",
   "version": "3.13.4"
  }
 },
 "nbformat": 4,
 "nbformat_minor": 2
}
