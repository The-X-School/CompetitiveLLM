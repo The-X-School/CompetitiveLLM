{
  "nbformat": 4,
  "nbformat_minor": 0,
  "metadata": {
    "colab": {
      "provenance": []
    },
    "kernelspec": {
      "name": "python3",
      "display_name": "Python 3"
    },
    "language_info": {
      "name": "python"
    }
  },
  "cells": [
    {
      "cell_type": "code",
      "source": [
        "!pip install -U datasets\n",
        "!pip install dataclass"
      ],
      "metadata": {
        "id": "1gHC_18sEdZM",
        "colab": {
          "base_uri": "https://localhost:8080/"
        },
        "outputId": "b81eb405-a3f2-43fc-81dd-e1b12694fb56"
      },
      "execution_count": 74,
      "outputs": [
        {
          "output_type": "stream",
          "name": "stdout",
          "text": [
            "Requirement already satisfied: datasets in /usr/local/lib/python3.11/dist-packages (3.6.0)\n",
            "Requirement already satisfied: filelock in /usr/local/lib/python3.11/dist-packages (from datasets) (3.18.0)\n",
            "Requirement already satisfied: numpy>=1.17 in /usr/local/lib/python3.11/dist-packages (from datasets) (2.0.2)\n",
            "Requirement already satisfied: pyarrow>=15.0.0 in /usr/local/lib/python3.11/dist-packages (from datasets) (18.1.0)\n",
            "Requirement already satisfied: dill<0.3.9,>=0.3.0 in /usr/local/lib/python3.11/dist-packages (from datasets) (0.3.7)\n",
            "Requirement already satisfied: pandas in /usr/local/lib/python3.11/dist-packages (from datasets) (2.2.2)\n",
            "Requirement already satisfied: requests>=2.32.2 in /usr/local/lib/python3.11/dist-packages (from datasets) (2.32.3)\n",
            "Requirement already satisfied: tqdm>=4.66.3 in /usr/local/lib/python3.11/dist-packages (from datasets) (4.67.1)\n",
            "Requirement already satisfied: xxhash in /usr/local/lib/python3.11/dist-packages (from datasets) (3.5.0)\n",
            "Requirement already satisfied: multiprocess<0.70.17 in /usr/local/lib/python3.11/dist-packages (from datasets) (0.70.15)\n",
            "Requirement already satisfied: fsspec<=2025.3.0,>=2023.1.0 in /usr/local/lib/python3.11/dist-packages (from fsspec[http]<=2025.3.0,>=2023.1.0->datasets) (2025.3.0)\n",
            "Requirement already satisfied: huggingface-hub>=0.24.0 in /usr/local/lib/python3.11/dist-packages (from datasets) (0.33.1)\n",
            "Requirement already satisfied: packaging in /usr/local/lib/python3.11/dist-packages (from datasets) (24.2)\n",
            "Requirement already satisfied: pyyaml>=5.1 in /usr/local/lib/python3.11/dist-packages (from datasets) (6.0.2)\n",
            "Requirement already satisfied: aiohttp!=4.0.0a0,!=4.0.0a1 in /usr/local/lib/python3.11/dist-packages (from fsspec[http]<=2025.3.0,>=2023.1.0->datasets) (3.11.15)\n",
            "Requirement already satisfied: typing-extensions>=3.7.4.3 in /usr/local/lib/python3.11/dist-packages (from huggingface-hub>=0.24.0->datasets) (4.14.0)\n",
            "Requirement already satisfied: hf-xet<2.0.0,>=1.1.2 in /usr/local/lib/python3.11/dist-packages (from huggingface-hub>=0.24.0->datasets) (1.1.5)\n",
            "Requirement already satisfied: charset-normalizer<4,>=2 in /usr/local/lib/python3.11/dist-packages (from requests>=2.32.2->datasets) (3.4.2)\n",
            "Requirement already satisfied: idna<4,>=2.5 in /usr/local/lib/python3.11/dist-packages (from requests>=2.32.2->datasets) (3.10)\n",
            "Requirement already satisfied: urllib3<3,>=1.21.1 in /usr/local/lib/python3.11/dist-packages (from requests>=2.32.2->datasets) (2.4.0)\n",
            "Requirement already satisfied: certifi>=2017.4.17 in /usr/local/lib/python3.11/dist-packages (from requests>=2.32.2->datasets) (2025.6.15)\n",
            "Requirement already satisfied: python-dateutil>=2.8.2 in /usr/local/lib/python3.11/dist-packages (from pandas->datasets) (2.9.0.post0)\n",
            "Requirement already satisfied: pytz>=2020.1 in /usr/local/lib/python3.11/dist-packages (from pandas->datasets) (2025.2)\n",
            "Requirement already satisfied: tzdata>=2022.7 in /usr/local/lib/python3.11/dist-packages (from pandas->datasets) (2025.2)\n",
            "Requirement already satisfied: aiohappyeyeballs>=2.3.0 in /usr/local/lib/python3.11/dist-packages (from aiohttp!=4.0.0a0,!=4.0.0a1->fsspec[http]<=2025.3.0,>=2023.1.0->datasets) (2.6.1)\n",
            "Requirement already satisfied: aiosignal>=1.1.2 in /usr/local/lib/python3.11/dist-packages (from aiohttp!=4.0.0a0,!=4.0.0a1->fsspec[http]<=2025.3.0,>=2023.1.0->datasets) (1.3.2)\n",
            "Requirement already satisfied: attrs>=17.3.0 in /usr/local/lib/python3.11/dist-packages (from aiohttp!=4.0.0a0,!=4.0.0a1->fsspec[http]<=2025.3.0,>=2023.1.0->datasets) (25.3.0)\n",
            "Requirement already satisfied: frozenlist>=1.1.1 in /usr/local/lib/python3.11/dist-packages (from aiohttp!=4.0.0a0,!=4.0.0a1->fsspec[http]<=2025.3.0,>=2023.1.0->datasets) (1.7.0)\n",
            "Requirement already satisfied: multidict<7.0,>=4.5 in /usr/local/lib/python3.11/dist-packages (from aiohttp!=4.0.0a0,!=4.0.0a1->fsspec[http]<=2025.3.0,>=2023.1.0->datasets) (6.6.3)\n",
            "Requirement already satisfied: propcache>=0.2.0 in /usr/local/lib/python3.11/dist-packages (from aiohttp!=4.0.0a0,!=4.0.0a1->fsspec[http]<=2025.3.0,>=2023.1.0->datasets) (0.3.2)\n",
            "Requirement already satisfied: yarl<2.0,>=1.17.0 in /usr/local/lib/python3.11/dist-packages (from aiohttp!=4.0.0a0,!=4.0.0a1->fsspec[http]<=2025.3.0,>=2023.1.0->datasets) (1.20.1)\n",
            "Requirement already satisfied: six>=1.5 in /usr/local/lib/python3.11/dist-packages (from python-dateutil>=2.8.2->pandas->datasets) (1.17.0)\n",
            "\u001b[31mERROR: Could not find a version that satisfies the requirement dataclass (from versions: none)\u001b[0m\u001b[31m\n",
            "\u001b[0m\u001b[31mERROR: No matching distribution found for dataclass\u001b[0m\u001b[31m\n",
            "\u001b[0m"
          ]
        }
      ]
    },
    {
      "cell_type": "code",
      "source": [
        "from google.colab import userdata\n",
        "from datasets import load_dataset\n",
        "import json\n",
        "\n",
        "OPENROUTER_API_KEY = userdata.get('OPENROUTER_API_KEY')\n",
        "model = \"qwen/qwen3-8b:free\""
      ],
      "metadata": {
        "id": "r32Sgj2-E6HD"
      },
      "execution_count": 3,
      "outputs": []
    },
    {
      "cell_type": "code",
      "source": [
        "num_cases = 50\n",
        "reasoning_start = \"<think>\"\n",
        "reasoning_end   = \"</think>\"\n",
        "\n",
        "system_prompt = \\\n",
        "f\"\"\"You are given a competitive programming problem.\n",
        "\n",
        "Your task is to write a Python script that generates test cases for this problem.\n",
        "\n",
        "Requirements:\n",
        "Read the problem description and extract the input format.\n",
        "\n",
        "Identify the structure, types, and constraints of the inputs.\n",
        "\n",
        "Understand any special cases or edge case patterns that should be tested.\n",
        "\n",
        "Write a Python test case generator that:\n",
        "\n",
        "Produces random, valid input data consistent with the problem’s input format and constraints.\n",
        "\n",
        "Gives the final result in a string that follows the format of the problem input\n",
        "\n",
        "Ensure the generated input is meaningful:\n",
        "\n",
        "The input must be accepted by a correct solution to the problem and must not cause runtime errors.\n",
        "\n",
        "Cover a variety of cases: small values, edge limits, and potentially tricky inputs that might expose bugs.\n",
        "\n",
        "Do not write hardcoded input or expected output.\n",
        "\n",
        "Your goal is to write a test case generator script, not fixed sample inputs or answers.\n",
        "\n",
        "Output:\n",
        "Your response should include a Python script that:\n",
        "\n",
        "When run, generates and returns random valid inputs for the given problem.\n",
        "\n",
        "Remember to store the outputs in a string or an array of strings\n",
        "\n",
        "You shoud generate exactly {num_cases} test cases.\n",
        "\n",
        "Output two new lines between each test case.\n",
        "\n",
        "\n",
        "Think about the problem and provide your working out.\n",
        "Place it between {reasoning_start} and {reasoning_end}.\n",
        "\n",
        "Provide your final generator program in this format:\n",
        "```python\n",
        "# YOUR VALIDATOR PROGRAM HERE\n",
        "```\n",
        "\"\"\"\n",
        "print(system_prompt)"
      ],
      "metadata": {
        "colab": {
          "base_uri": "https://localhost:8080/"
        },
        "id": "0YfcTomUFkUJ",
        "outputId": "bdf8dd79-8f5a-4574-f9f6-8aface994057"
      },
      "execution_count": 3,
      "outputs": [
        {
          "output_type": "stream",
          "name": "stdout",
          "text": [
            "You are given a competitive programming problem.\n",
            "\n",
            "Your task is to write a Python script that generates test cases for this problem.\n",
            "\n",
            "Requirements:\n",
            "Read the problem description and extract the input format.\n",
            "\n",
            "Identify the structure, types, and constraints of the inputs.\n",
            "\n",
            "Understand any special cases or edge case patterns that should be tested.\n",
            "\n",
            "Write a Python test case generator that:\n",
            "\n",
            "Produces random, valid input data consistent with the problem’s input format and constraints.\n",
            "\n",
            "Gives the final result in a string that follows the format of the problem input\n",
            "\n",
            "Ensure the generated input is meaningful:\n",
            "\n",
            "The input must be accepted by a correct solution to the problem and must not cause runtime errors.\n",
            "\n",
            "Cover a variety of cases: small values, edge limits, and potentially tricky inputs that might expose bugs.\n",
            "\n",
            "Do not write hardcoded input or expected output.\n",
            "\n",
            "Your goal is to write a test case generator script, not fixed sample inputs or answers.\n",
            "\n",
            "Output:\n",
            "Your response should include a Python script that:\n",
            "\n",
            "When run, generates and returns random valid inputs for the given problem.\n",
            "\n",
            "Remember to store the outputs in a string or an array of strings\n",
            "\n",
            "You shoud generate exactly 50 test cases.\n",
            "\n",
            "Output two new lines between each test case.\n",
            "\n",
            "\n",
            "Think about the problem and provide your working out.\n",
            "Place it between <think> and </think>.\n",
            "\n",
            "Provide your final generator program in this format:\n",
            "```python\n",
            "# YOUR VALIDATOR PROGRAM HERE\n",
            "```\n",
            "\n"
          ]
        }
      ]
    },
    {
      "cell_type": "code",
      "source": [
        "ds = load_dataset(\"BAAI/TACO\", split=\"train\")\n",
        "def filter_questions(ds):\n",
        "  good_ds=[]\n",
        "  bad_ds=[]\n",
        "  keywords = [\n",
        "    \"interact with\", \"query the judge\", \"ask the judge\", \"exchange of data\",\n",
        "    \"communicate back and forth\", \"judge responds\", \"your program will wait\",\n",
        "    \"flush(\", \"adaptive input\", \"adversarial\", \"guess the number\", \"interactive\"\n",
        "  ]\n",
        "\n",
        "  for i in range(len(ds)):\n",
        "    question = ds[i]['question']\n",
        "    if any(key in question for key in keywords):\n",
        "      bad_ds.append(ds[i])\n",
        "    else:\n",
        "      good_ds.append(ds[i])\n",
        "  return good_ds\n",
        "\n",
        "ds=filter_questions(ds)"
      ],
      "metadata": {
        "id": "ZA6liEJmFnYA",
        "colab": {
          "base_uri": "https://localhost:8080/"
        },
        "outputId": "5099ba86-665f-4c24-fce5-ca078d3c9479"
      },
      "execution_count": 4,
      "outputs": [
        {
          "output_type": "stream",
          "name": "stderr",
          "text": [
            "/usr/local/lib/python3.11/dist-packages/huggingface_hub/utils/_auth.py:94: UserWarning: \n",
            "The secret `HF_TOKEN` does not exist in your Colab secrets.\n",
            "To authenticate with the Hugging Face Hub, create a token in your settings tab (https://huggingface.co/settings/tokens), set it as secret in your Google Colab and restart your session.\n",
            "You will be able to reuse this secret in all of your notebooks.\n",
            "Please note that authentication is recommended but still optional to access public models or datasets.\n",
            "  warnings.warn(\n"
          ]
        }
      ]
    },
    {
      "cell_type": "code",
      "source": [
        "dict2={}\n",
        "for i in range(len(ds)):\n",
        "  if ds[i]['source'] not in dict2:\n",
        "    dict2[ds[i]['source']]=0\n",
        "  dict2[ds[i]['source']]+=1\n",
        "print(dict2)"
      ],
      "metadata": {
        "colab": {
          "base_uri": "https://localhost:8080/",
          "height": 211
        },
        "id": "sgS972nPXBGK",
        "outputId": "7a9af49c-ddf2-4a35-be69-d5fd23696c2d"
      },
      "execution_count": 1,
      "outputs": [
        {
          "output_type": "error",
          "ename": "NameError",
          "evalue": "name 'ds' is not defined",
          "traceback": [
            "\u001b[0;31m---------------------------------------------------------------------------\u001b[0m",
            "\u001b[0;31mNameError\u001b[0m                                 Traceback (most recent call last)",
            "\u001b[0;32m/tmp/ipython-input-1-1079507858.py\u001b[0m in \u001b[0;36m<cell line: 0>\u001b[0;34m()\u001b[0m\n\u001b[1;32m      1\u001b[0m \u001b[0mdict2\u001b[0m\u001b[0;34m=\u001b[0m\u001b[0;34m{\u001b[0m\u001b[0;34m}\u001b[0m\u001b[0;34m\u001b[0m\u001b[0;34m\u001b[0m\u001b[0m\n\u001b[0;32m----> 2\u001b[0;31m \u001b[0;32mfor\u001b[0m \u001b[0mi\u001b[0m \u001b[0;32min\u001b[0m \u001b[0mrange\u001b[0m\u001b[0;34m(\u001b[0m\u001b[0mlen\u001b[0m\u001b[0;34m(\u001b[0m\u001b[0mds\u001b[0m\u001b[0;34m)\u001b[0m\u001b[0;34m)\u001b[0m\u001b[0;34m:\u001b[0m\u001b[0;34m\u001b[0m\u001b[0;34m\u001b[0m\u001b[0m\n\u001b[0m\u001b[1;32m      3\u001b[0m   \u001b[0;32mif\u001b[0m \u001b[0mds\u001b[0m\u001b[0;34m[\u001b[0m\u001b[0mi\u001b[0m\u001b[0;34m]\u001b[0m\u001b[0;34m[\u001b[0m\u001b[0;34m'source'\u001b[0m\u001b[0;34m]\u001b[0m \u001b[0;32mnot\u001b[0m \u001b[0;32min\u001b[0m \u001b[0mdict2\u001b[0m\u001b[0;34m:\u001b[0m\u001b[0;34m\u001b[0m\u001b[0;34m\u001b[0m\u001b[0m\n\u001b[1;32m      4\u001b[0m     \u001b[0mdict2\u001b[0m\u001b[0;34m[\u001b[0m\u001b[0mds\u001b[0m\u001b[0;34m[\u001b[0m\u001b[0mi\u001b[0m\u001b[0;34m]\u001b[0m\u001b[0;34m[\u001b[0m\u001b[0;34m'source'\u001b[0m\u001b[0;34m]\u001b[0m\u001b[0;34m]\u001b[0m\u001b[0;34m=\u001b[0m\u001b[0;36m0\u001b[0m\u001b[0;34m\u001b[0m\u001b[0;34m\u001b[0m\u001b[0m\n\u001b[1;32m      5\u001b[0m   \u001b[0mdict2\u001b[0m\u001b[0;34m[\u001b[0m\u001b[0mds\u001b[0m\u001b[0;34m[\u001b[0m\u001b[0mi\u001b[0m\u001b[0;34m]\u001b[0m\u001b[0;34m[\u001b[0m\u001b[0;34m'source'\u001b[0m\u001b[0;34m]\u001b[0m\u001b[0;34m]\u001b[0m\u001b[0;34m+=\u001b[0m\u001b[0;36m1\u001b[0m\u001b[0;34m\u001b[0m\u001b[0;34m\u001b[0m\u001b[0m\n",
            "\u001b[0;31mNameError\u001b[0m: name 'ds' is not defined"
          ]
        }
      ]
    },
    {
      "cell_type": "markdown",
      "source": [
        "Interactive: {'codeforces': 113, 'kattis': 1, 'aizu': 3, 'atcoder': 1, 'codechef': 1}"
      ],
      "metadata": {
        "id": "sguyK4pxbQ3z"
      }
    },
    {
      "cell_type": "markdown",
      "source": [
        "Flush:{'codeforces': 133, 'codechef': 5, 'aizu': 8, 'kattis': 1, 'codewars': 1}\n",
        "\n",
        "---\n",
        "\n"
      ],
      "metadata": {
        "id": "B6LxyYL4bN4e"
      }
    },
    {
      "cell_type": "markdown",
      "source": [
        "Interative and flush:{'codeforces': 138, 'codechef': 5, 'kattis': 2, 'aizu': 9, 'atcoder': 1, 'codewars': 1}"
      ],
      "metadata": {
        "id": "e2sXjT85a2bI"
      }
    },
    {
      "cell_type": "markdown",
      "source": [
        "interatice, interaction, and flush: {'codeforces': 141, 'codechef': 9, 'hackerearth': 3, 'codewars': 3, 'kattis': 4, 'aizu': 9, 'atcoder': 1}"
      ],
      "metadata": {
        "id": "76ieLX5lctXb"
      }
    },
    {
      "cell_type": "code",
      "source": [
        "# Use OpenAI library as a base\n",
        "from openai import OpenAI\n",
        "\n",
        "\n",
        "client = OpenAI(\n",
        "    base_url=\"https://openrouter.ai/api/v1\",\n",
        "    api_key=OPENROUTER_API_KEY\n",
        ")\n",
        "\n",
        "def generate_completion(question):\n",
        "    completion = client.chat.completions.create(\n",
        "        model=model,\n",
        "        temperature=1.0,\n",
        "        messages=[\n",
        "            {\"role\": \"system\", \"content\": system_prompt},\n",
        "            {\"role\": \"user\", \"content\": question}\n",
        "        ]\n",
        "    )\n",
        "    return completion.choices[0].message.content\n",
        "\n",
        "message = generate_completion(question)\n",
        "print(message)"
      ],
      "metadata": {
        "colab": {
          "base_uri": "https://localhost:8080/"
        },
        "id": "21y4ah8wFo9m",
        "outputId": "3349fb2e-486b-4e0d-cd2b-f81dfdc619fb"
      },
      "execution_count": 65,
      "outputs": [
        {
          "output_type": "stream",
          "name": "stdout",
          "text": [
            "```python\n",
            "import random\n",
            "import string\n",
            "\n",
            "for _ in range(50):\n",
            "    s_length = random.randint(1, 5000)\n",
            "    t_length = random.randint(1, 5000)\n",
            "    s = ''.join(random.choices(string.ascii_lowercase, k=s_length))\n",
            "    t = ''.join(random.choices(string.ascii_lowercase, k=t_length))\n",
            "    print(s)\n",
            "    print(t)\n",
            "    print()\n",
            "```\n"
          ]
        }
      ]
    },
    {
      "cell_type": "code",
      "source": [
        "import re\n",
        "\n",
        "def extract_code(text: str):\n",
        "    result = re.findall('```python(.*?)```', text, re.DOTALL)\n",
        "    if len(result) > 0:\n",
        "        return result[-1].rstrip()\n",
        "    return None\n",
        "\n",
        "code = extract_code(message)\n",
        "print(code)"
      ],
      "metadata": {
        "colab": {
          "base_uri": "https://localhost:8080/"
        },
        "id": "oPLx3xl804Vg",
        "outputId": "08d63dd5-7c98-47c8-cbb3-308f560cde2d"
      },
      "execution_count": 66,
      "outputs": [
        {
          "output_type": "stream",
          "name": "stdout",
          "text": [
            "\n",
            "import random\n",
            "import string\n",
            "\n",
            "for _ in range(50):\n",
            "    s_length = random.randint(1, 5000)\n",
            "    t_length = random.randint(1, 5000)\n",
            "    s = ''.join(random.choices(string.ascii_lowercase, k=s_length))\n",
            "    t = ''.join(random.choices(string.ascii_lowercase, k=t_length))\n",
            "    print(s)\n",
            "    print(t)\n",
            "    print()\n"
          ]
        }
      ]
    },
    {
      "cell_type": "code",
      "source": [
        "from dataclasses import dataclass\n",
        "from typing import Optional, List\n",
        "import io\n",
        "import time\n",
        "import builtins\n",
        "import sys\n",
        "import multiprocessing\n",
        "import resource\n",
        "\n",
        "# Import libraries to make available for the test code that is generated\n",
        "import math\n",
        "import random\n",
        "import numpy as np\n",
        "\n",
        "default_globals = {\n",
        "    \"__builtins__\": __builtins__,\n",
        "    \"math\": math,\n",
        "    \"random\": random,\n",
        "    \"np\": np,\n",
        "    \"sys\": sys\n",
        "}\n",
        "\n",
        "@dataclass\n",
        "class CodeResult:\n",
        "    \"\"\"Result from executing a piece of code.\"\"\"\n",
        "    time: float  # seconds\n",
        "    memory: float  # MB\n",
        "    verdict: str  # \"OK\", \"TLE\", \"MLE\", \"RTE\", \"WA\"\n",
        "    output: Optional[str] = None\n",
        "    error: Optional[str] = None\n",
        "\n",
        "def run_code(\n",
        "    code: str,\n",
        "    case_input: str,\n",
        "    output_queue: multiprocessing.Queue,\n",
        "    memory_limit: float = 256\n",
        ") -> CodeResult:\n",
        "    \"\"\"Runs a piece of code with given inputs and captures the outputs\"\"\"\n",
        "\n",
        "    #reliability_guard(memory_limit)\n",
        "\n",
        "    def get_peak_memory_mb():\n",
        "        \"\"\"Get peak memory usage\"\"\"\n",
        "        usage = resource.getrusage(resource.RUSAGE_SELF).ru_maxrss\n",
        "        if sys.platform == 'darwin': # darwin is Mac OS X\n",
        "            return usage / (1024 * 1024)  # Convert bytes -> MB\n",
        "        else:\n",
        "            return usage / 1024 # Convert KB -> MB\n",
        "\n",
        "    start = time.time()\n",
        "\n",
        "    # Mock input\n",
        "    input_stream = io.StringIO(case_input)\n",
        "    sys.stdin = input_stream\n",
        "    builtins.input = lambda: input_stream.readline().rstrip('\\n')  # Optional override\n",
        "\n",
        "    # Capture output\n",
        "    buf = io.StringIO()\n",
        "    sys.stdout = buf\n",
        "    try:\n",
        "        exec(code, default_globals)\n",
        "    except Exception as e:\n",
        "        if (get_peak_memory_mb() >= memory_limit):\n",
        "            output_queue.put(CodeResult(\n",
        "                time=time.time() - start,\n",
        "                memory=get_peak_memory_mb(),\n",
        "                verdict=\"Memory Limit Error\",\n",
        "                error=str(e)\n",
        "            ), 0)\n",
        "            return\n",
        "\n",
        "        output_queue.put(CodeResult(\n",
        "            time=time.time() - start,\n",
        "            memory=get_peak_memory_mb(),\n",
        "            verdict=\"Runtime Error\",\n",
        "            error=str(e)\n",
        "        ), 0)\n",
        "        return\n",
        "    finally:\n",
        "        sys.stdout = sys.__stdout__\n",
        "\n",
        "    result = CodeResult(\n",
        "        output=buf.getvalue(),\n",
        "        time=time.time() - start,\n",
        "        memory=get_peak_memory_mb(),\n",
        "        verdict=\"OK\"\n",
        "    )\n",
        "\n",
        "    output_queue.put(result, 0)\n",
        "\n",
        "def test_code(code: str, cases: List[str], time_limit: float = 256) -> List[CodeResult]:\n",
        "    outs = []\n",
        "\n",
        "    for i in range(len(cases)):\n",
        "        output_queue = multiprocessing.Queue()\n",
        "        p = multiprocessing.Process(target=run_code, args=(code, cases[i], output_queue))\n",
        "        p.start()\n",
        "        p.join(timeout=time_limit)\n",
        "        if p.is_alive():\n",
        "            p.terminate()\n",
        "            out = CodeResult(\n",
        "                time=time_limit,\n",
        "                memory=0,\n",
        "                verdict=\"Time Limit Error\"\n",
        "            )\n",
        "        else:\n",
        "            try:\n",
        "                out = output_queue.get(timeout=1)\n",
        "            except Exception as e:\n",
        "                out = CodeResult(\n",
        "                    time=0,\n",
        "                    memory=0,\n",
        "                    verdict=\"Runtime Error\",\n",
        "                    error=str(e)\n",
        "                )\n",
        "\n",
        "        outs.append(out)\n",
        "\n",
        "    return outs"
      ],
      "metadata": {
        "id": "ZuQaNSgDZRw8"
      },
      "execution_count": 67,
      "outputs": []
    },
    {
      "cell_type": "code",
      "source": [
        "outs = test_code(code, ['andrew is smart'], 2)\n",
        "if outs[0].verdict == 'OK':\n",
        "  inputs=outs[0].output\n",
        "  inputs=inputs.split(\"\\n\\n\")\n",
        "  print(inputs)\n",
        "  sols = json.loads(ds[1][\"solutions\"])\n",
        "  for sol in sols:\n",
        "    case_outs=test_code(sols[0],inputs,2)\n",
        "else:\n",
        "  print(\"invalid\")"
      ],
      "metadata": {
        "id": "ucT0gd4G4al_",
        "colab": {
          "base_uri": "https://localhost:8080/"
        },
        "outputId": "6c24b357-b61d-4cc3-b26e-59c60b6a1a0d"
      },
      "execution_count": 68,
      "outputs": [
        {
          "output_type": "stream",
          "name": "stdout",
          "text": [
            "invalid\n"
          ]
        }
      ]
    },
    {
      "cell_type": "code",
      "source": [
        "sols = json.loads(ds[1][\"solutions\"])\n",
        "for sol in sols:\n",
        "  case_outs=test_code(sols[0],inputs,2)"
      ],
      "metadata": {
        "id": "YvlPWzJKHnuz"
      },
      "execution_count": null,
      "outputs": []
    }
  ]
}